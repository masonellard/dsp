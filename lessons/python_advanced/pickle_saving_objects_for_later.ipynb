{
 "cells": [
  {
   "cell_type": "code",
   "execution_count": null,
   "metadata": {},
   "outputs": [],
   "source": [
    "import sys\n",
    "print(\"Python Version:\", sys.version, '\\n')"
   ]
  },
  {
   "cell_type": "markdown",
   "metadata": {},
   "source": [
    "# Pickle: Saving Objects for Later"
   ]
  },
  {
   "cell_type": "markdown",
   "metadata": {},
   "source": [
    "Often in data science, we'll create some model or some version of our data and want to use it later. We have many options - we can save the coefficients, or save the data to csv, or...\n",
    "\n",
    "Actually, we don't have that many options. \n",
    "\n",
    "One way to overcome that is to save the python object to a file as a serialized object. That means we convert the entire object to a bunch of bytes, save those bytes into a file, and then have the ability to unpack those bytes back into their original format later. \n",
    "\n",
    "This is done by a module called `pickle`. Let's see it in action."
   ]
  },
  {
   "cell_type": "code",
   "execution_count": 1,
   "metadata": {},
   "outputs": [],
   "source": [
    "import pickle\n",
    "import random\n",
    "\n",
    "lots_of_noise = {\n",
    "    'CA': [random.randint(0,65) for _ in range(100)],\n",
    "    'IL': [random.randint(0,65) for _ in range(50)],\n",
    "    'NY': [random.randint(0,65) for _ in range(90)],\n",
    "    'WA': [random.randint(0,65) for _ in range(33)]\n",
    "}"
   ]
  },
  {
   "cell_type": "code",
   "execution_count": 2,
   "metadata": {},
   "outputs": [
    {
     "name": "stdout",
     "output_type": "stream",
     "text": [
      "{'CA': [40, 45, 13, 35, 62, 52, 7, 13, 31, 11, 41, 58, 28, 58, 4, 46, 17, 51, 44, 63, 28, 11, 34, 14, 46, 46, 28, 22, 19, 8, 49, 46, 0, 18, 26, 5, 22, 57, 38, 1, 59, 9, 54, 2, 3, 30, 38, 2, 2, 48, 47, 32, 0, 58, 21, 48, 35, 13, 35, 22, 44, 45, 63, 32, 57, 40, 38, 34, 9, 17, 60, 11, 8, 51, 63, 11, 31, 17, 65, 55, 0, 61, 18, 43, 45, 37, 52, 20, 37, 25, 44, 7, 41, 13, 40, 54, 1, 58, 6, 8], 'IL': [62, 30, 52, 63, 65, 48, 18, 47, 46, 20, 28, 31, 56, 58, 43, 34, 38, 54, 12, 51, 60, 32, 10, 46, 32, 48, 7, 17, 52, 40, 13, 25, 11, 41, 41, 63, 37, 14, 56, 49, 3, 44, 48, 23, 9, 16, 64, 17, 30, 18], 'NY': [24, 12, 18, 44, 36, 59, 24, 36, 43, 55, 58, 7, 6, 18, 43, 40, 31, 56, 63, 62, 46, 11, 40, 20, 64, 26, 2, 52, 9, 46, 48, 33, 5, 15, 54, 64, 51, 43, 54, 47, 20, 34, 60, 34, 23, 35, 65, 47, 19, 43, 57, 15, 56, 6, 2, 32, 32, 1, 54, 28, 19, 7, 18, 0, 22, 14, 11, 21, 23, 31, 62, 34, 2, 1, 28, 6, 62, 61, 13, 9, 22, 5, 4, 50, 17, 63, 1, 64, 12, 46], 'WA': [14, 41, 53, 10, 5, 11, 62, 58, 27, 36, 9, 50, 16, 14, 0, 40, 26, 23, 16, 32, 36, 55, 12, 6, 3, 64, 19, 13, 60, 37, 45, 23, 3]}\n"
     ]
    }
   ],
   "source": [
    "print(lots_of_noise)"
   ]
  },
  {
   "cell_type": "code",
   "execution_count": 3,
   "metadata": {},
   "outputs": [
    {
     "name": "stdout",
     "output_type": "stream",
     "text": [
      "Variable        Type      Data/Info\n",
      "-----------------------------------\n",
      "lots_of_noise   dict      n=4\n",
      "pickle          module    <module 'pickle' from '/h<...>lib/python3.8/pickle.py'>\n",
      "random          module    <module 'random' from '/h<...>lib/python3.8/random.py'>\n"
     ]
    }
   ],
   "source": [
    "whos"
   ]
  },
  {
   "cell_type": "markdown",
   "metadata": {},
   "source": [
    "We can see in this `whos` command that the object `lots_of_noise` exists and is a `dict` with 4 keys. Nice. Now let's look at our file system and verify that there isn't a file called `noise.pickle`."
   ]
  },
  {
   "cell_type": "code",
   "execution_count": 5,
   "metadata": {},
   "outputs": [
    {
     "name": "stdout",
     "output_type": "stream",
     "text": [
      "advanced_python_datatypes.ipynb  my_dataframe.pickle\n",
      "complexity.md\t\t\t noise.pickle\n",
      "deep_and_shallow_copy.ipynb\t pickle_saving_objects_for_later.ipynb\n",
      "deep_copy_demo\t\t\t readme.md\n",
      "advanced_python_datatypes.ipynb  my_dataframe.pickle\n",
      "complexity.md\t\t\t pickle_saving_objects_for_later.ipynb\n",
      "deep_and_shallow_copy.ipynb\t readme.md\n",
      "deep_copy_demo\n"
     ]
    }
   ],
   "source": [
    "!ls\n",
    "!rm noise.pickle\n",
    "!ls"
   ]
  },
  {
   "cell_type": "markdown",
   "metadata": {},
   "source": [
    "Okay, now we're ready to create a file and write the bytes to it. To do this with `pickle`, we use python's read-write streamer `open` and create a writable-binary (`wb`) file. We'll then use `pickle.dump` to put an object into that file as a string of bytes."
   ]
  },
  {
   "cell_type": "code",
   "execution_count": 6,
   "metadata": {},
   "outputs": [],
   "source": [
    "with open('noise.pickle', 'wb') as to_write:\n",
    "    pickle.dump(lots_of_noise, to_write)"
   ]
  },
  {
   "cell_type": "code",
   "execution_count": 7,
   "metadata": {},
   "outputs": [
    {
     "name": "stdout",
     "output_type": "stream",
     "text": [
      "advanced_python_datatypes.ipynb  my_dataframe.pickle\r\n",
      "complexity.md\t\t\t noise.pickle\r\n",
      "deep_and_shallow_copy.ipynb\t pickle_saving_objects_for_later.ipynb\r\n",
      "deep_copy_demo\t\t\t readme.md\r\n"
     ]
    }
   ],
   "source": [
    "!ls"
   ]
  },
  {
   "cell_type": "markdown",
   "metadata": {},
   "source": [
    "Now let's delete `lots_of_noise` and prove to ourselves it doesn't exist in Python's memory anymore."
   ]
  },
  {
   "cell_type": "code",
   "execution_count": 8,
   "metadata": {},
   "outputs": [],
   "source": [
    "del lots_of_noise"
   ]
  },
  {
   "cell_type": "code",
   "execution_count": 9,
   "metadata": {},
   "outputs": [
    {
     "name": "stdout",
     "output_type": "stream",
     "text": [
      "Variable   Type              Data/Info\n",
      "--------------------------------------\n",
      "pickle     module            <module 'pickle' from '/h<...>lib/python3.8/pickle.py'>\n",
      "random     module            <module 'random' from '/h<...>lib/python3.8/random.py'>\n",
      "to_write   BufferedWriter    <_io.BufferedWriter name='noise.pickle'>\n"
     ]
    }
   ],
   "source": [
    "whos"
   ]
  },
  {
   "cell_type": "code",
   "execution_count": null,
   "metadata": {},
   "outputs": [],
   "source": [
    "print(lots_of_noise)"
   ]
  },
  {
   "cell_type": "markdown",
   "metadata": {},
   "source": [
    "Lovely. It's dead forever. Or is it?\n",
    "\n",
    "Let's open that `noise.pickle` file with read-binary (`rb`) mode. Then we'll ask pickle to retrieve the file with `pickle.load` and store it back in a variable."
   ]
  },
  {
   "cell_type": "code",
   "execution_count": 10,
   "metadata": {},
   "outputs": [],
   "source": [
    "with open('noise.pickle','rb') as read_file:\n",
    "    new_noise = pickle.load(read_file)"
   ]
  },
  {
   "cell_type": "code",
   "execution_count": 11,
   "metadata": {},
   "outputs": [
    {
     "name": "stdout",
     "output_type": "stream",
     "text": [
      "{'CA': [40, 45, 13, 35, 62, 52, 7, 13, 31, 11, 41, 58, 28, 58, 4, 46, 17, 51, 44, 63, 28, 11, 34, 14, 46, 46, 28, 22, 19, 8, 49, 46, 0, 18, 26, 5, 22, 57, 38, 1, 59, 9, 54, 2, 3, 30, 38, 2, 2, 48, 47, 32, 0, 58, 21, 48, 35, 13, 35, 22, 44, 45, 63, 32, 57, 40, 38, 34, 9, 17, 60, 11, 8, 51, 63, 11, 31, 17, 65, 55, 0, 61, 18, 43, 45, 37, 52, 20, 37, 25, 44, 7, 41, 13, 40, 54, 1, 58, 6, 8], 'IL': [62, 30, 52, 63, 65, 48, 18, 47, 46, 20, 28, 31, 56, 58, 43, 34, 38, 54, 12, 51, 60, 32, 10, 46, 32, 48, 7, 17, 52, 40, 13, 25, 11, 41, 41, 63, 37, 14, 56, 49, 3, 44, 48, 23, 9, 16, 64, 17, 30, 18], 'NY': [24, 12, 18, 44, 36, 59, 24, 36, 43, 55, 58, 7, 6, 18, 43, 40, 31, 56, 63, 62, 46, 11, 40, 20, 64, 26, 2, 52, 9, 46, 48, 33, 5, 15, 54, 64, 51, 43, 54, 47, 20, 34, 60, 34, 23, 35, 65, 47, 19, 43, 57, 15, 56, 6, 2, 32, 32, 1, 54, 28, 19, 7, 18, 0, 22, 14, 11, 21, 23, 31, 62, 34, 2, 1, 28, 6, 62, 61, 13, 9, 22, 5, 4, 50, 17, 63, 1, 64, 12, 46], 'WA': [14, 41, 53, 10, 5, 11, 62, 58, 27, 36, 9, 50, 16, 14, 0, 40, 26, 23, 16, 32, 36, 55, 12, 6, 3, 64, 19, 13, 60, 37, 45, 23, 3]}\n"
     ]
    }
   ],
   "source": [
    "print(new_noise)"
   ]
  },
  {
   "cell_type": "code",
   "execution_count": 12,
   "metadata": {},
   "outputs": [
    {
     "name": "stdout",
     "output_type": "stream",
     "text": [
      "Variable    Type              Data/Info\n",
      "---------------------------------------\n",
      "new_noise   dict              n=4\n",
      "pickle      module            <module 'pickle' from '/h<...>lib/python3.8/pickle.py'>\n",
      "random      module            <module 'random' from '/h<...>lib/python3.8/random.py'>\n",
      "read_file   BufferedReader    <_io.BufferedReader name='noise.pickle'>\n",
      "to_write    BufferedWriter    <_io.BufferedWriter name='noise.pickle'>\n"
     ]
    }
   ],
   "source": [
    "whos"
   ]
  },
  {
   "cell_type": "markdown",
   "metadata": {},
   "source": [
    "Random noise lives! We retrieved the entire structure from file. Nice."
   ]
  },
  {
   "cell_type": "markdown",
   "metadata": {},
   "source": [
    "### Okay, but I don't use dictionaries... I use pandas."
   ]
  },
  {
   "cell_type": "code",
   "execution_count": 13,
   "metadata": {},
   "outputs": [
    {
     "data": {
      "text/html": [
       "<div>\n",
       "<style scoped>\n",
       "    .dataframe tbody tr th:only-of-type {\n",
       "        vertical-align: middle;\n",
       "    }\n",
       "\n",
       "    .dataframe tbody tr th {\n",
       "        vertical-align: top;\n",
       "    }\n",
       "\n",
       "    .dataframe thead th {\n",
       "        text-align: right;\n",
       "    }\n",
       "</style>\n",
       "<table border=\"1\" class=\"dataframe\">\n",
       "  <thead>\n",
       "    <tr style=\"text-align: right;\">\n",
       "      <th></th>\n",
       "      <th>Yay</th>\n",
       "      <th>specific</th>\n",
       "      <th>column</th>\n",
       "      <th>names</th>\n",
       "    </tr>\n",
       "  </thead>\n",
       "  <tbody>\n",
       "    <tr>\n",
       "      <th>0</th>\n",
       "      <td>-3.226485</td>\n",
       "      <td>-1.944613</td>\n",
       "      <td>-7.362842</td>\n",
       "      <td>-5.110695</td>\n",
       "    </tr>\n",
       "    <tr>\n",
       "      <th>1</th>\n",
       "      <td>-8.909124</td>\n",
       "      <td>7.719740</td>\n",
       "      <td>-6.336079</td>\n",
       "      <td>-5.332445</td>\n",
       "    </tr>\n",
       "    <tr>\n",
       "      <th>2</th>\n",
       "      <td>-3.956623</td>\n",
       "      <td>-6.091815</td>\n",
       "      <td>2.670180</td>\n",
       "      <td>4.833390</td>\n",
       "    </tr>\n",
       "    <tr>\n",
       "      <th>3</th>\n",
       "      <td>4.722847</td>\n",
       "      <td>8.443977</td>\n",
       "      <td>3.697174</td>\n",
       "      <td>1.764535</td>\n",
       "    </tr>\n",
       "    <tr>\n",
       "      <th>4</th>\n",
       "      <td>-1.423352</td>\n",
       "      <td>-3.403007</td>\n",
       "      <td>-6.108024</td>\n",
       "      <td>5.807881</td>\n",
       "    </tr>\n",
       "  </tbody>\n",
       "</table>\n",
       "</div>"
      ],
      "text/plain": [
       "        Yay  specific    column     names\n",
       "0 -3.226485 -1.944613 -7.362842 -5.110695\n",
       "1 -8.909124  7.719740 -6.336079 -5.332445\n",
       "2 -3.956623 -6.091815  2.670180  4.833390\n",
       "3  4.722847  8.443977  3.697174  1.764535\n",
       "4 -1.423352 -3.403007 -6.108024  5.807881"
      ]
     },
     "execution_count": 13,
     "metadata": {},
     "output_type": "execute_result"
    }
   ],
   "source": [
    "import pandas as pd\n",
    "import numpy as np\n",
    "\n",
    "df = pd.DataFrame(np.random.uniform(-10,10, size=(100,4)), columns=['Yay','specific','column','names'])\n",
    "df.head(5)"
   ]
  },
  {
   "cell_type": "code",
   "execution_count": 14,
   "metadata": {},
   "outputs": [],
   "source": [
    "with open('my_dataframe.pickle', 'wb') as to_write:\n",
    "    pickle.dump(df, to_write)"
   ]
  },
  {
   "cell_type": "code",
   "execution_count": 15,
   "metadata": {},
   "outputs": [
    {
     "ename": "NameError",
     "evalue": "name 'df' is not defined",
     "output_type": "error",
     "traceback": [
      "\u001b[0;31m---------------------------------------------------------------------------\u001b[0m",
      "\u001b[0;31mNameError\u001b[0m                                 Traceback (most recent call last)",
      "\u001b[0;32m<ipython-input-15-3975f6306adf>\u001b[0m in \u001b[0;36m<module>\u001b[0;34m\u001b[0m\n\u001b[1;32m      1\u001b[0m \u001b[0;32mdel\u001b[0m \u001b[0mdf\u001b[0m\u001b[0;34m\u001b[0m\u001b[0;34m\u001b[0m\u001b[0m\n\u001b[1;32m      2\u001b[0m \u001b[0;34m\u001b[0m\u001b[0m\n\u001b[0;32m----> 3\u001b[0;31m \u001b[0mdf\u001b[0m\u001b[0;34m.\u001b[0m\u001b[0mhead\u001b[0m\u001b[0;34m(\u001b[0m\u001b[0;36m5\u001b[0m\u001b[0;34m)\u001b[0m\u001b[0;34m\u001b[0m\u001b[0;34m\u001b[0m\u001b[0m\n\u001b[0m",
      "\u001b[0;31mNameError\u001b[0m: name 'df' is not defined"
     ]
    }
   ],
   "source": [
    "del df\n",
    "\n",
    "df.head(5)"
   ]
  },
  {
   "cell_type": "code",
   "execution_count": 16,
   "metadata": {},
   "outputs": [
    {
     "data": {
      "text/html": [
       "<div>\n",
       "<style scoped>\n",
       "    .dataframe tbody tr th:only-of-type {\n",
       "        vertical-align: middle;\n",
       "    }\n",
       "\n",
       "    .dataframe tbody tr th {\n",
       "        vertical-align: top;\n",
       "    }\n",
       "\n",
       "    .dataframe thead th {\n",
       "        text-align: right;\n",
       "    }\n",
       "</style>\n",
       "<table border=\"1\" class=\"dataframe\">\n",
       "  <thead>\n",
       "    <tr style=\"text-align: right;\">\n",
       "      <th></th>\n",
       "      <th>Yay</th>\n",
       "      <th>specific</th>\n",
       "      <th>column</th>\n",
       "      <th>names</th>\n",
       "    </tr>\n",
       "  </thead>\n",
       "  <tbody>\n",
       "    <tr>\n",
       "      <th>0</th>\n",
       "      <td>-3.226485</td>\n",
       "      <td>-1.944613</td>\n",
       "      <td>-7.362842</td>\n",
       "      <td>-5.110695</td>\n",
       "    </tr>\n",
       "    <tr>\n",
       "      <th>1</th>\n",
       "      <td>-8.909124</td>\n",
       "      <td>7.719740</td>\n",
       "      <td>-6.336079</td>\n",
       "      <td>-5.332445</td>\n",
       "    </tr>\n",
       "    <tr>\n",
       "      <th>2</th>\n",
       "      <td>-3.956623</td>\n",
       "      <td>-6.091815</td>\n",
       "      <td>2.670180</td>\n",
       "      <td>4.833390</td>\n",
       "    </tr>\n",
       "    <tr>\n",
       "      <th>3</th>\n",
       "      <td>4.722847</td>\n",
       "      <td>8.443977</td>\n",
       "      <td>3.697174</td>\n",
       "      <td>1.764535</td>\n",
       "    </tr>\n",
       "    <tr>\n",
       "      <th>4</th>\n",
       "      <td>-1.423352</td>\n",
       "      <td>-3.403007</td>\n",
       "      <td>-6.108024</td>\n",
       "      <td>5.807881</td>\n",
       "    </tr>\n",
       "  </tbody>\n",
       "</table>\n",
       "</div>"
      ],
      "text/plain": [
       "        Yay  specific    column     names\n",
       "0 -3.226485 -1.944613 -7.362842 -5.110695\n",
       "1 -8.909124  7.719740 -6.336079 -5.332445\n",
       "2 -3.956623 -6.091815  2.670180  4.833390\n",
       "3  4.722847  8.443977  3.697174  1.764535\n",
       "4 -1.423352 -3.403007 -6.108024  5.807881"
      ]
     },
     "execution_count": 16,
     "metadata": {},
     "output_type": "execute_result"
    }
   ],
   "source": [
    "with open('my_dataframe.pickle','rb') as read_file:\n",
    "    new_df = pickle.load(read_file)\n",
    "    \n",
    "new_df.head(5)"
   ]
  },
  {
   "cell_type": "markdown",
   "metadata": {},
   "source": [
    "Pickle is a great tool. One recommended way of using it is to make it an end point of every step in your process. Example:\n",
    "\n",
    "* I got my data! Nice. Pickle it and stop your \"getting the data\" notebook.\n",
    "* Load your data from pickle. Clean it. Save your clean data to a new pickle.\n",
    "* Load your cleaned_data pickle. Do analysis and visualize it.\n",
    "\n",
    "This can provide natural \"pick-up-where-I-left-off-but-before-I-broke-my-data\" points. It's a great way to control the flow of your data.\n",
    "\n",
    "#### Resources\n",
    "\n",
    "https://docs.python.org/3.7/library/pickle.html"
   ]
  },
  {
   "cell_type": "code",
   "execution_count": null,
   "metadata": {},
   "outputs": [],
   "source": []
  }
 ],
 "metadata": {
  "kernelspec": {
   "display_name": "Python 3",
   "language": "python",
   "name": "python3"
  },
  "language_info": {
   "codemirror_mode": {
    "name": "ipython",
    "version": 3
   },
   "file_extension": ".py",
   "mimetype": "text/x-python",
   "name": "python",
   "nbconvert_exporter": "python",
   "pygments_lexer": "ipython3",
   "version": "3.8.3"
  }
 },
 "nbformat": 4,
 "nbformat_minor": 1
}
